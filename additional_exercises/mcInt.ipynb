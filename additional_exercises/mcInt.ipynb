{
 "metadata": {
  "name": "",
  "signature": "sha256:d86be14708b3af0d866242ee7ad3d7056cd20a5fce33e487e43875e35f133d7e"
 },
 "nbformat": 3,
 "nbformat_minor": 0,
 "worksheets": [
  {
   "cells": [
    {
     "cell_type": "code",
     "collapsed": false,
     "input": [
      "import random\n",
      "import numpy as np\n",
      "from math import pi"
     ],
     "language": "python",
     "metadata": {},
     "outputs": [],
     "prompt_number": 1
    },
    {
     "cell_type": "code",
     "collapsed": false,
     "input": [
      "import matplotlib.pyplot as plt\n",
      "%matplotlib inline"
     ],
     "language": "python",
     "metadata": {},
     "outputs": [],
     "prompt_number": 4
    },
    {
     "cell_type": "code",
     "collapsed": false,
     "input": [
      "error = []\n",
      "steps = [10,50,100,500,1000,5000,10000,50000,100000,500000,1000000]\n",
      "for itr in steps:\n",
      "#    print itr\n",
      "    e_rms = 0\n",
      "    for i in range(10):\n",
      "        area = 0\n",
      "        for i in range(itr):\n",
      "            #x = random.random()\n",
      "           # y = random.random()\n",
      "            x = np.random.rand()\n",
      "            y = np.random.rand()\n",
      "            if x**2 + y**2 < 1:\n",
      "                area += 1\n",
      "        #print area*4./i, area*4./i-pi\n",
      "        #error.append(area*4./i-pi)\n",
      "        e_rms += (area*4./i-pi)**2\n",
      "#    print (e_rms)**(1./2)\n",
      "    error.append((e_rms)**(1./2))\n",
      "#    print '\\n'"
     ],
     "language": "python",
     "metadata": {},
     "outputs": [],
     "prompt_number": 3
    },
    {
     "cell_type": "code",
     "collapsed": false,
     "input": [
      "print np.polyfit(np.log10(steps),np.log10(error),1)"
     ],
     "language": "python",
     "metadata": {},
     "outputs": [
      {
       "output_type": "stream",
       "stream": "stdout",
       "text": [
        "[-0.49898516  0.70987507]\n"
       ]
      }
     ],
     "prompt_number": 5
    },
    {
     "cell_type": "code",
     "collapsed": false,
     "input": [
      "plt.loglog(steps, error,'-', -0.52831587*np.asarray(steps) + 0.80191813, '--')\n",
      "#plt.plot(steps, error)"
     ],
     "language": "python",
     "metadata": {},
     "outputs": [
      {
       "metadata": {},
       "output_type": "pyout",
       "prompt_number": 6,
       "text": [
        "[<matplotlib.lines.Line2D at 0xb11497ec>,\n",
        " <matplotlib.lines.Line2D at 0xb1163fcc>]"
       ]
      },
      {
       "metadata": {},
       "output_type": "display_data",
       "png": "[encoded data removed]",
       "text": [
        "<matplotlib.figure.Figure at 0xb13297ac>"
       ]
      }
     ],
     "prompt_number": 6
    },
    {
     "cell_type": "code",
     "collapsed": false,
     "input": [
      "plt.plot(np.log10(steps), np.log10(error), '-', -0.52831587*np.log10(steps) + 0.80191813, '--')"
     ],
     "language": "python",
     "metadata": {},
     "outputs": [
      {
       "metadata": {},
       "output_type": "pyout",
       "prompt_number": 7,
       "text": [
        "[<matplotlib.lines.Line2D at 0xb00901cc>,\n",
        " <matplotlib.lines.Line2D at 0xb009018c>]"
       ]
      },
      {
       "metadata": {},
       "output_type": "display_data",
       "png": "[encoded data removed]",
       "text": [
        "<matplotlib.figure.Figure at 0xb115dbcc>"
       ]
      }
     ],
     "prompt_number": 7
    },
    {
     "cell_type": "markdown",
     "metadata": {},
     "source": [
      "integration using trapezoid and simpson's rules\n",
      "==="
     ]
    },
    {
     "cell_type": "markdown",
     "metadata": {},
     "source": [
      "*needs clean up*"
     ]
    },
    {
     "cell_type": "code",
     "collapsed": false,
     "input": [
      "def fn(x):\n",
      "    return (1.- x**2)**(1./2)\n",
      "\n",
      "h0 = 0.1\n",
      "#x = np.arange(0,1,h)\n",
      "print 'simpsons method'\n",
      "for j in range(1,5):\n",
      "    h = h0**j\n",
      "    print h, int(1./h)/2\n",
      "    x = 0\n",
      "    output = fn(0)*(1./3)\n",
      "    #x += h\n",
      "    for i in range(1,int(1./h)/2):\n",
      "        output += fn(x + (2*i-1)*h)*(4./3) + fn(x+2*i*h)*(2./3)\n",
      "    print (output - fn(1)*(1./3))*h - pi/4\n",
      "\n",
      "    \n",
      "print 'trapezoid method'\n",
      "for j in range(1,5):\n",
      "    h = h0**j\n",
      "    print h, int(1./h)/2\n",
      "    x = 0\n",
      "    output = fn(0)*(1./2)\n",
      "    #x += h\n",
      "    for i in range(1,int(1./h)):\n",
      "        output += fn(x + i*h)*(1.)\n",
      "    print (output + fn(1)*(1./2))*h - pi/4"
     ],
     "language": "python",
     "metadata": {},
     "outputs": [
      {
       "output_type": "stream",
       "stream": "stdout",
       "text": [
        "simpsons method\n",
        "0.1 5\n",
        "-0.0617647763022\n",
        "0.01 49\n",
        "-0.00656380898438\n",
        "0.001 499\n",
        "-0.000208589096541\n",
        "0.0001 4999\n",
        "-6.59939186232e-06\n",
        "trapezoid method\n",
        "0.1 5\n",
        "-0.00926858183537\n",
        "0.01 49\n",
        "-0.00170457905065\n",
        "0.001 499\n",
        "-5.40068475048e-05\n",
        "0.0001 4999\n",
        "-1.70817282474e-06\n"
       ]
      }
     ],
     "prompt_number": 34
    },
    {
     "cell_type": "code",
     "collapsed": false,
     "input": [],
     "language": "python",
     "metadata": {},
     "outputs": []
    }
   ],
   "metadata": {}
  }
 ]
}