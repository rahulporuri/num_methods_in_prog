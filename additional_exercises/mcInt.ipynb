{
 "metadata": {
  "name": "",
  "signature": "sha256:ced0dd1777c39c4322f45cc03989298e0e9ccfb07005323ff75350ab605797f3"
 },
 "nbformat": 3,
 "nbformat_minor": 0,
 "worksheets": [
  {
   "cells": [
    {
     "cell_type": "code",
     "collapsed": false,
     "input": [
      "import random\n",
      "import numpy as np\n",
      "from math import pi"
     ],
     "language": "python",
     "metadata": {},
     "outputs": [],
     "prompt_number": 1
    },
    {
     "cell_type": "code",
     "collapsed": false,
     "input": [
      "error = []\n",
      "steps = [10,50,100,500,1000,5000,10000,50000,100000,500000,1000000]\n",
      "for itr in steps:\n",
      "    print itr\n",
      "    e_rms = 0\n",
      "    for i in range(10):\n",
      "        area = 0\n",
      "        for i in range(itr):\n",
      "            #x = random.random()\n",
      "           # y = random.random()\n",
      "            x = np.random.rand()\n",
      "            y = np.random.rand()\n",
      "            if x**2 + y**2 < 1:\n",
      "                area += 1\n",
      "        #print area*4./i, area*4./i-pi\n",
      "        #error.append(area*4./i-pi)\n",
      "        e_rms += (area*4./i-pi)**2\n",
      "    print (e_rms)**(1./2)\n",
      "    error.append((e_rms)**(1./2))\n",
      "    print '\\n'"
     ],
     "language": "python",
     "metadata": {},
     "outputs": [
      {
       "output_type": "stream",
       "stream": "stdout",
       "text": [
        "10\n",
        "2.47255359158\n",
        "\n",
        "\n",
        "50\n",
        "0.759645851681\n",
        "\n",
        "\n",
        "100\n",
        "0.424853353114\n",
        "\n",
        "\n",
        "500\n",
        "0.174929159842\n",
        "\n",
        "\n",
        "1000\n",
        "0.185688960419\n",
        "\n",
        "\n",
        "5000\n",
        "0.0748646350852"
       ]
      },
      {
       "output_type": "stream",
       "stream": "stdout",
       "text": [
        "\n",
        "\n",
        "\n",
        "10000\n",
        "0.057650145201"
       ]
      },
      {
       "output_type": "stream",
       "stream": "stdout",
       "text": [
        "\n",
        "\n",
        "\n",
        "50000\n",
        "0.0225970856526"
       ]
      },
      {
       "output_type": "stream",
       "stream": "stdout",
       "text": [
        "\n",
        "\n",
        "\n",
        "100000\n",
        "0.0125145203497"
       ]
      },
      {
       "output_type": "stream",
       "stream": "stdout",
       "text": [
        "\n",
        "\n",
        "\n",
        "500000\n",
        "0.0104695434097"
       ]
      },
      {
       "output_type": "stream",
       "stream": "stdout",
       "text": [
        "\n",
        "\n",
        "\n",
        "1000000\n",
        "0.00272412977781"
       ]
      },
      {
       "output_type": "stream",
       "stream": "stdout",
       "text": [
        "\n",
        "\n",
        "\n"
       ]
      }
     ],
     "prompt_number": 9
    },
    {
     "cell_type": "code",
     "collapsed": false,
     "input": [
      "import matplotlib.pyplot as plt\n",
      "%matplotlib inline"
     ],
     "language": "python",
     "metadata": {},
     "outputs": [],
     "prompt_number": 2
    },
    {
     "cell_type": "code",
     "collapsed": false,
     "input": [
      "print np.polyfit(np.log10(steps),np.log10(error),1)"
     ],
     "language": "python",
     "metadata": {},
     "outputs": [
      {
       "output_type": "stream",
       "stream": "stdout",
       "text": [
        "[-0.52831587  0.80191813]\n"
       ]
      }
     ],
     "prompt_number": 15
    },
    {
     "cell_type": "code",
     "collapsed": false,
     "input": [
      "plt.loglog(steps, error,'-', -0.52831587*np.asarray(steps) + 0.80191813, '--')\n",
      "#plt.plot(steps, error)"
     ],
     "language": "python",
     "metadata": {},
     "outputs": [
      {
       "metadata": {},
       "output_type": "pyout",
       "prompt_number": 21,
       "text": [
        "[<matplotlib.lines.Line2D at 0xafc6bd0c>,\n",
        " <matplotlib.lines.Line2D at 0xafab896c>]"
       ]
      },
      {
       "metadata": {},
       "output_type": "display_data",
       "png": "[encoded data removed]",
       "text": [
        "<matplotlib.figure.Figure at 0xafc3fc2c>"
       ]
      }
     ],
     "prompt_number": 21
    },
    {
     "cell_type": "code",
     "collapsed": false,
     "input": [
      "plt.hold()\n",
      "plt.plot(np.log10(steps), np.log10(error), '-', -0.52831587*np.log10(steps) + 0.80191813, '--')"
     ],
     "language": "python",
     "metadata": {},
     "outputs": [
      {
       "metadata": {},
       "output_type": "pyout",
       "prompt_number": 18,
       "text": [
        "[<matplotlib.lines.Line2D at 0xafda090c>,\n",
        " <matplotlib.lines.Line2D at 0xafda0fec>]"
       ]
      },
      {
       "metadata": {},
       "output_type": "display_data",
       "png": "[encoded data removed]",
       "text": [
        "<matplotlib.figure.Figure at 0xafdce42c>"
       ]
      }
     ],
     "prompt_number": 18
    },
    {
     "cell_type": "code",
     "collapsed": false,
     "input": [],
     "language": "python",
     "metadata": {},
     "outputs": []
    }
   ],
   "metadata": {}
  }
 ]
}