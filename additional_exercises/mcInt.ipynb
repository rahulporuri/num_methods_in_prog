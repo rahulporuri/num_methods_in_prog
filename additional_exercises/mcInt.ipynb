{
 "metadata": {
  "name": "",
  "signature": "sha256:69b50b45e6479d799ea366458ccccd7915e22a829b91d9e3ced6d7b419b371d9"
 },
 "nbformat": 3,
 "nbformat_minor": 0,
 "worksheets": [
  {
   "cells": [
    {
     "cell_type": "code",
     "collapsed": false,
     "input": [
      "import random\n",
      "import numpy as np\n",
      "from math import pi"
     ],
     "language": "python",
     "metadata": {},
     "outputs": [],
     "prompt_number": 1
    },
    {
     "cell_type": "code",
     "collapsed": false,
     "input": [
      "error = []\n",
      "steps = [10,50,100,500,1000,5000,10000,50000,100000,500000,1000000]\n",
      "for itr in steps:\n",
      "    print itr\n",
      "    e_rms = 0\n",
      "    for i in range(10):\n",
      "        area = 0\n",
      "        for i in range(itr):\n",
      "            #x = random.random()\n",
      "           # y = random.random()\n",
      "            x = np.random.rand()\n",
      "            y = np.random.rand()\n",
      "            if x**2 + y**2 < 1:\n",
      "                area += 1\n",
      "        #print area*4./i, area*4./i-pi\n",
      "        #error.append(area*4./i-pi)\n",
      "        e_rms += (area*4./i-pi)**2\n",
      "    print (e_rms)**(1./2)\n",
      "    error.append((e_rms)**(1./2))\n",
      "    print '\\n'"
     ],
     "language": "python",
     "metadata": {},
     "outputs": [
      {
       "output_type": "stream",
       "stream": "stdout",
       "text": [
        "10\n",
        "2.7654017251\n",
        "\n",
        "\n",
        "50\n",
        "0.705049742519\n",
        "\n",
        "\n",
        "100\n",
        "0.465328352934\n",
        "\n",
        "\n",
        "500\n",
        "0.168778641754"
       ]
      },
      {
       "output_type": "stream",
       "stream": "stdout",
       "text": [
        "\n",
        "\n",
        "\n",
        "1000\n",
        "0.138724256275"
       ]
      },
      {
       "output_type": "stream",
       "stream": "stdout",
       "text": [
        "\n",
        "\n",
        "\n",
        "5000\n",
        "0.0645102223486"
       ]
      },
      {
       "output_type": "stream",
       "stream": "stdout",
       "text": [
        "\n",
        "\n",
        "\n",
        "10000\n",
        "0.0556581106668"
       ]
      },
      {
       "output_type": "stream",
       "stream": "stdout",
       "text": [
        "\n",
        "\n",
        "\n",
        "50000\n",
        "0.0268827581965"
       ]
      },
      {
       "output_type": "stream",
       "stream": "stdout",
       "text": [
        "\n",
        "\n",
        "\n",
        "100000\n",
        "0.00965768027382"
       ]
      },
      {
       "output_type": "stream",
       "stream": "stdout",
       "text": [
        "\n",
        "\n",
        "\n",
        "500000\n",
        "0.00722897300906"
       ]
      },
      {
       "output_type": "stream",
       "stream": "stdout",
       "text": [
        "\n",
        "\n",
        "\n",
        "1000000\n",
        "0.00526464678162"
       ]
      },
      {
       "output_type": "stream",
       "stream": "stdout",
       "text": [
        "\n",
        "\n",
        "\n"
       ]
      }
     ],
     "prompt_number": 2
    },
    {
     "cell_type": "code",
     "collapsed": false,
     "input": [
      "import matplotlib.pyplot as plt\n",
      "%matplotlib inline"
     ],
     "language": "python",
     "metadata": {},
     "outputs": [],
     "prompt_number": 3
    },
    {
     "cell_type": "code",
     "collapsed": false,
     "input": [
      "print np.polyfit(np.log10(steps),np.log10(error),1)"
     ],
     "language": "python",
     "metadata": {},
     "outputs": [
      {
       "output_type": "stream",
       "stream": "stdout",
       "text": [
        "[-0.5202338   0.76579207]\n"
       ]
      }
     ],
     "prompt_number": 4
    },
    {
     "cell_type": "code",
     "collapsed": false,
     "input": [
      "plt.loglog(steps, error,'-', -0.52831587*np.asarray(steps) + 0.80191813, '--')\n",
      "#plt.plot(steps, error)"
     ],
     "language": "python",
     "metadata": {},
     "outputs": [
      {
       "metadata": {},
       "output_type": "pyout",
       "prompt_number": 5,
       "text": [
        "[<matplotlib.lines.Line2D at 0xb1236cec>,\n",
        " <matplotlib.lines.Line2D at 0xb12568ac>]"
       ]
      },
      {
       "metadata": {},
       "output_type": "display_data",
       "png": "[encoded data removed]",
       "text": [
        "<matplotlib.figure.Figure at 0xb104af4c>"
       ]
      }
     ],
     "prompt_number": 5
    },
    {
     "cell_type": "code",
     "collapsed": false,
     "input": [
      "plt.hold()\n",
      "plt.plot(np.log10(steps), np.log10(error), '-', -0.52831587*np.log10(steps) + 0.80191813, '--')"
     ],
     "language": "python",
     "metadata": {},
     "outputs": [
      {
       "metadata": {},
       "output_type": "pyout",
       "prompt_number": 6,
       "text": [
        "[<matplotlib.lines.Line2D at 0xb109d6cc>,\n",
        " <matplotlib.lines.Line2D at 0xb109da6c>]"
       ]
      },
      {
       "metadata": {},
       "output_type": "display_data",
       "png": "[encoded data removed]",
       "text": [
        "<matplotlib.figure.Figure at 0xb128ff4c>"
       ]
      }
     ],
     "prompt_number": 6
    },
    {
     "cell_type": "markdown",
     "metadata": {},
     "source": [
      "estimating pi using 3D integration\n",
      "==="
     ]
    },
    {
     "cell_type": "code",
     "collapsed": false,
     "input": [
      "error = []\n",
      "steps = [10,50,100,500,1000,5000,10000,50000,100000,500000,1000000]\n",
      "for itr in steps:\n",
      "    print itr\n",
      "    e_rms = 0\n",
      "    for i in range(10):\n",
      "        area = 0\n",
      "        for i in range(itr):\n",
      "            #x = random.random()\n",
      "           # y = random.random()\n",
      "            x = np.random.rand()\n",
      "            y = np.random.rand()\n",
      "            z = np.random.rand()\n",
      "            if x**2 + y**2 + z**2< 1:\n",
      "                area += 1\n",
      "        #print area*4./i, area*4./i-pi\n",
      "        #error.append(area*4./i-pi)\n",
      "        e_rms += (area*6./i-pi)**2\n",
      "    print (e_rms)**(1./2), \n",
      "    error.append((e_rms)**(1./2))\n",
      "    print '\\n'"
     ],
     "language": "python",
     "metadata": {},
     "outputs": [
      {
       "output_type": "stream",
       "stream": "stdout",
       "text": [
        "10\n",
        "3.68337483109\n",
        "\n",
        "\n",
        "50\n",
        "1.31165905463\n",
        "\n",
        "\n",
        "100\n",
        "0.995112922879"
       ]
      },
      {
       "output_type": "stream",
       "stream": "stdout",
       "text": [
        "\n",
        "\n",
        "\n",
        "500\n",
        "0.311765006421\n",
        "\n",
        "\n",
        "1000\n",
        "0.272783744001"
       ]
      },
      {
       "output_type": "stream",
       "stream": "stdout",
       "text": [
        "\n",
        "\n",
        "\n",
        "5000\n",
        "0.135475860987"
       ]
      },
      {
       "output_type": "stream",
       "stream": "stdout",
       "text": [
        "\n",
        "\n",
        "\n",
        "10000\n",
        "0.0532699862166"
       ]
      },
      {
       "output_type": "stream",
       "stream": "stdout",
       "text": [
        "\n",
        "\n",
        "\n",
        "50000\n",
        "0.0329109239119"
       ]
      },
      {
       "output_type": "stream",
       "stream": "stdout",
       "text": [
        "\n",
        "\n",
        "\n",
        "100000\n",
        "0.034003359573"
       ]
      },
      {
       "output_type": "stream",
       "stream": "stdout",
       "text": [
        "\n",
        "\n",
        "\n",
        "500000\n",
        "0.0119673341291"
       ]
      },
      {
       "output_type": "stream",
       "stream": "stdout",
       "text": [
        "\n",
        "\n",
        "\n",
        "1000000\n",
        "0.00603534038234"
       ]
      },
      {
       "output_type": "stream",
       "stream": "stdout",
       "text": [
        "\n",
        "\n",
        "\n"
       ]
      }
     ],
     "prompt_number": 7
    },
    {
     "cell_type": "code",
     "collapsed": false,
     "input": [
      "plt.loglog(steps, error)"
     ],
     "language": "python",
     "metadata": {},
     "outputs": [
      {
       "metadata": {},
       "output_type": "pyout",
       "prompt_number": 8,
       "text": [
        "[<matplotlib.lines.Line2D at 0xb111526c>]"
       ]
      },
      {
       "metadata": {},
       "output_type": "display_data",
       "png": "[encoded data removed]",
       "text": [
        "<matplotlib.figure.Figure at 0xb0090d8c>"
       ]
      }
     ],
     "prompt_number": 8
    },
    {
     "cell_type": "code",
     "collapsed": false,
     "input": [],
     "language": "python",
     "metadata": {},
     "outputs": []
    }
   ],
   "metadata": {}
  }
 ]
}