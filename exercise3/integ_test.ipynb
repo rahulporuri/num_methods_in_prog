{
 "metadata": {
  "name": "",
  "signature": "sha256:ebe22cea10e0571fc534e18ad7ebc4eb2a328fa8a5437c78dbfb8635b8f6c30f"
 },
 "nbformat": 3,
 "nbformat_minor": 0,
 "worksheets": [
  {
   "cells": [
    {
     "cell_type": "code",
     "collapsed": false,
     "input": [
      "import numpy as np\n",
      "import matplotlib.pyplot as plt\n",
      "%matplotlib inline"
     ],
     "language": "python",
     "metadata": {},
     "outputs": [],
     "prompt_number": 3
    },
    {
     "cell_type": "code",
     "collapsed": false,
     "input": [
      "def fn(x):\n",
      "    return np.exp(beta*x/alpha)\n",
      "\n",
      "\n",
      "def integ_trap(a,b,h):\n",
      "    return\n",
      "\n",
      "def integ_simp(a,b,h):\n",
      "    return\n",
      "\n",
      "def integ_38ths(a,b,h):\n",
      "    return\n",
      "\n",
      "a =\n",
      "b =\n",
      "\n",
      "h_min = \n",
      "h_max = 1.\n",
      "\n",
      "h = h_max\n",
      "while h>h_min:\n",
      "    integ_trap(a,b,h)\n",
      "    integ_simp(a,b,h)\n",
      "    integ_38ths(a,b,h)\n",
      "    h = h/2\n",
      "    "
     ],
     "language": "python",
     "metadata": {},
     "outputs": []
    },
    {
     "cell_type": "code",
     "collapsed": false,
     "input": [
      "x = np.arange(1,100,1)"
     ],
     "language": "python",
     "metadata": {},
     "outputs": [],
     "prompt_number": 4
    },
    {
     "cell_type": "code",
     "collapsed": false,
     "input": [
      "x"
     ],
     "language": "python",
     "metadata": {},
     "outputs": [
      {
       "metadata": {},
       "output_type": "pyout",
       "prompt_number": 5,
       "text": [
        "array([ 1,  2,  3,  4,  5,  6,  7,  8,  9, 10, 11, 12, 13, 14, 15, 16, 17,\n",
        "       18, 19, 20, 21, 22, 23, 24, 25, 26, 27, 28, 29, 30, 31, 32, 33, 34,\n",
        "       35, 36, 37, 38, 39, 40, 41, 42, 43, 44, 45, 46, 47, 48, 49, 50, 51,\n",
        "       52, 53, 54, 55, 56, 57, 58, 59, 60, 61, 62, 63, 64, 65, 66, 67, 68,\n",
        "       69, 70, 71, 72, 73, 74, 75, 76, 77, 78, 79, 80, 81, 82, 83, 84, 85,\n",
        "       86, 87, 88, 89, 90, 91, 92, 93, 94, 95, 96, 97, 98, 99])"
       ]
      }
     ],
     "prompt_number": 5
    },
    {
     "cell_type": "code",
     "collapsed": false,
     "input": [],
     "language": "python",
     "metadata": {},
     "outputs": []
    }
   ],
   "metadata": {}
  }
 ]
}