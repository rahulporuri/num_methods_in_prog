{
 "metadata": {
  "name": "",
  "signature": "sha256:11d0345ea27bc2411ec5d2f8fae87ba057ed7642dd07cde2bf84b3c104bf0637"
 },
 "nbformat": 3,
 "nbformat_minor": 0,
 "worksheets": [
  {
   "cells": [
    {
     "cell_type": "code",
     "collapsed": false,
     "input": [
      "import numpy as np\n",
      "import matplotlib.pyplot as plt\n",
      "%matplotlib inline"
     ],
     "language": "python",
     "metadata": {},
     "outputs": [],
     "prompt_number": 1
    },
    {
     "cell_type": "code",
     "collapsed": false,
     "input": [
      "h_min = 1e-08\n",
      "h_max = 1e-01\n",
      "h = h_max\n",
      "\n",
      "alpha = 1\n",
      "beta = 1\n",
      "\n",
      "def fn(x):\n",
      "    return np.exp(beta*x/alpha)\n",
      "\n",
      "while h > h_min :\n",
      "    x = np.arange(0,1,h)\n",
      "    y = fn(x)\n",
      "    integ_trap = np.sum(y[1:-1])\n",
      "    print (h/2.)*(y[0]+y[-1]) + (h/2.)*integ_trap\n",
      "    h = h/10"
     ],
     "language": "python",
     "metadata": {},
     "outputs": [
      {
       "output_type": "stream",
       "stream": "stdout",
       "text": [
        "1.46081924441\n",
        "1.69124856595\n",
        "1.71556504828\n",
        "1.7180100153\n",
        "1.71825464579\n",
        "1.71827911018"
       ]
      },
      {
       "output_type": "stream",
       "stream": "stdout",
       "text": [
        "\n",
        "1.71828155663"
       ]
      },
      {
       "output_type": "stream",
       "stream": "stdout",
       "text": [
        "\n"
       ]
      },
      {
       "ename": "MemoryError",
       "evalue": "",
       "output_type": "pyerr",
       "traceback": [
        "\u001b[0;31m---------------------------------------------------------------------------\u001b[0m\n\u001b[0;31mMemoryError\u001b[0m                               Traceback (most recent call last)",
        "\u001b[0;32m<ipython-input-2-ebe6bb66c2c0>\u001b[0m in \u001b[0;36m<module>\u001b[0;34m()\u001b[0m\n\u001b[1;32m     11\u001b[0m \u001b[0;32mwhile\u001b[0m \u001b[0mh\u001b[0m \u001b[0;34m>\u001b[0m \u001b[0mh_min\u001b[0m \u001b[0;34m:\u001b[0m\u001b[0;34m\u001b[0m\u001b[0m\n\u001b[1;32m     12\u001b[0m     \u001b[0mx\u001b[0m \u001b[0;34m=\u001b[0m \u001b[0mnp\u001b[0m\u001b[0;34m.\u001b[0m\u001b[0marange\u001b[0m\u001b[0;34m(\u001b[0m\u001b[0;36m0\u001b[0m\u001b[0;34m,\u001b[0m\u001b[0;36m1\u001b[0m\u001b[0;34m,\u001b[0m\u001b[0mh\u001b[0m\u001b[0;34m)\u001b[0m\u001b[0;34m\u001b[0m\u001b[0m\n\u001b[0;32m---> 13\u001b[0;31m     \u001b[0my\u001b[0m \u001b[0;34m=\u001b[0m \u001b[0mfn\u001b[0m\u001b[0;34m(\u001b[0m\u001b[0mx\u001b[0m\u001b[0;34m)\u001b[0m\u001b[0;34m\u001b[0m\u001b[0m\n\u001b[0m\u001b[1;32m     14\u001b[0m     \u001b[0minteg_trap\u001b[0m \u001b[0;34m=\u001b[0m \u001b[0mnp\u001b[0m\u001b[0;34m.\u001b[0m\u001b[0msum\u001b[0m\u001b[0;34m(\u001b[0m\u001b[0my\u001b[0m\u001b[0;34m[\u001b[0m\u001b[0;36m1\u001b[0m\u001b[0;34m:\u001b[0m\u001b[0;34m-\u001b[0m\u001b[0;36m1\u001b[0m\u001b[0;34m]\u001b[0m\u001b[0;34m)\u001b[0m\u001b[0;34m\u001b[0m\u001b[0m\n\u001b[1;32m     15\u001b[0m     \u001b[0;32mprint\u001b[0m \u001b[0;34m(\u001b[0m\u001b[0mh\u001b[0m\u001b[0;34m/\u001b[0m\u001b[0;36m2.\u001b[0m\u001b[0;34m)\u001b[0m\u001b[0;34m*\u001b[0m\u001b[0;34m(\u001b[0m\u001b[0my\u001b[0m\u001b[0;34m[\u001b[0m\u001b[0;36m0\u001b[0m\u001b[0;34m]\u001b[0m\u001b[0;34m+\u001b[0m\u001b[0my\u001b[0m\u001b[0;34m[\u001b[0m\u001b[0;34m-\u001b[0m\u001b[0;36m1\u001b[0m\u001b[0;34m]\u001b[0m\u001b[0;34m)\u001b[0m \u001b[0;34m+\u001b[0m \u001b[0mh\u001b[0m\u001b[0;34m*\u001b[0m\u001b[0minteg_trap\u001b[0m\u001b[0;34m\u001b[0m\u001b[0m\n",
        "\u001b[0;32m<ipython-input-2-ebe6bb66c2c0>\u001b[0m in \u001b[0;36mfn\u001b[0;34m(x)\u001b[0m\n\u001b[1;32m      7\u001b[0m \u001b[0;34m\u001b[0m\u001b[0m\n\u001b[1;32m      8\u001b[0m \u001b[0;32mdef\u001b[0m \u001b[0mfn\u001b[0m\u001b[0;34m(\u001b[0m\u001b[0mx\u001b[0m\u001b[0;34m)\u001b[0m\u001b[0;34m:\u001b[0m\u001b[0;34m\u001b[0m\u001b[0m\n\u001b[0;32m----> 9\u001b[0;31m     \u001b[0;32mreturn\u001b[0m \u001b[0mnp\u001b[0m\u001b[0;34m.\u001b[0m\u001b[0mexp\u001b[0m\u001b[0;34m(\u001b[0m\u001b[0mbeta\u001b[0m\u001b[0;34m*\u001b[0m\u001b[0mx\u001b[0m\u001b[0;34m/\u001b[0m\u001b[0malpha\u001b[0m\u001b[0;34m)\u001b[0m\u001b[0;34m\u001b[0m\u001b[0m\n\u001b[0m\u001b[1;32m     10\u001b[0m \u001b[0;34m\u001b[0m\u001b[0m\n\u001b[1;32m     11\u001b[0m \u001b[0;32mwhile\u001b[0m \u001b[0mh\u001b[0m \u001b[0;34m>\u001b[0m \u001b[0mh_min\u001b[0m \u001b[0;34m:\u001b[0m\u001b[0;34m\u001b[0m\u001b[0m\n",
        "\u001b[0;31mMemoryError\u001b[0m: "
       ]
      }
     ],
     "prompt_number": 2
    },
    {
     "cell_type": "code",
     "collapsed": false,
     "input": [
      "h_min = 1e-08\n",
      "h_max = 1e-01\n",
      "h = h_max\n",
      "\n",
      "alpha = 1\n",
      "beta = 1\n",
      "\n",
      "def fn(x):\n",
      "    return np.exp(beta*x/alpha)\n",
      "\n",
      "a = 0\n",
      "b = 1\n",
      "\n",
      "while h > h_min :\n",
      "    x = np.arange(0,1,h)\n",
      "    integ_trap = 0\n",
      "    i = 1\n",
      "    a = h\n",
      "    while a < b-h:\n",
      "        integ_trap += fn(a+h)+fn(a)\n",
      "        a += h\n",
      "    print (h/2.)*(fn(x[0])+fn(x[-1])) + (h/2.)*integ_trap - fn(1) + fn(0)\n",
      "    h = h/10"
     ],
     "language": "python",
     "metadata": {},
     "outputs": [
      {
       "output_type": "stream",
       "stream": "stdout",
       "text": [
        "0.0691532725843\n",
        "-0.0186273409863\n",
        "-0.00185949797416\n",
        "8.58969322624e-05"
       ]
      },
      {
       "output_type": "stream",
       "stream": "stdout",
       "text": [
        "\n",
        "8.59123670849e-06"
       ]
      },
      {
       "output_type": "stream",
       "stream": "stdout",
       "text": [
        "\n",
        "-1.85914099582e-06"
       ]
      },
      {
       "output_type": "stream",
       "stream": "stdout",
       "text": [
        "\n",
        "8.57804203225e-08"
       ]
      },
      {
       "output_type": "stream",
       "stream": "stdout",
       "text": [
        "\n",
        "-1.74422642996e-08"
       ]
      },
      {
       "output_type": "stream",
       "stream": "stdout",
       "text": [
        "\n"
       ]
      }
     ],
     "prompt_number": 8
    },
    {
     "cell_type": "code",
     "collapsed": false,
     "input": [
      "h = 1/3\n",
      "a = 0\n",
      "integ_trap = 0\n",
      "for n in range(1,1./h):\n",
      "    integ_trap = np.exp(a+n*h) + np.exp(a*(n+1)*h)\n",
      "    a += h\n",
      "print (h)*integ_trap + (h/2.)*(np.exp(0)+np.exp(1))"
     ],
     "language": "python",
     "metadata": {},
     "outputs": [
      {
       "ename": "KeyboardInterrupt",
       "evalue": "",
       "output_type": "pyerr",
       "traceback": [
        "\u001b[0;31m---------------------------------------------------------------------------\u001b[0m\n\u001b[0;31mKeyboardInterrupt\u001b[0m                         Traceback (most recent call last)",
        "\u001b[0;32m<ipython-input-13-8fe04fdbe062>\u001b[0m in \u001b[0;36m<module>\u001b[0;34m()\u001b[0m\n\u001b[1;32m      3\u001b[0m \u001b[0minteg_trap\u001b[0m \u001b[0;34m=\u001b[0m \u001b[0;36m0\u001b[0m\u001b[0;34m\u001b[0m\u001b[0m\n\u001b[1;32m      4\u001b[0m \u001b[0;32mwhile\u001b[0m \u001b[0ma\u001b[0m \u001b[0;34m<\u001b[0m \u001b[0;36m1\u001b[0m\u001b[0;34m-\u001b[0m\u001b[0mh\u001b[0m\u001b[0;34m:\u001b[0m\u001b[0;34m\u001b[0m\u001b[0m\n\u001b[0;32m----> 5\u001b[0;31m     \u001b[0minteg_trap\u001b[0m \u001b[0;34m=\u001b[0m \u001b[0mnp\u001b[0m\u001b[0;34m.\u001b[0m\u001b[0mexp\u001b[0m\u001b[0;34m(\u001b[0m\u001b[0ma\u001b[0m\u001b[0;34m+\u001b[0m\u001b[0mh\u001b[0m\u001b[0;34m)\u001b[0m \u001b[0;34m+\u001b[0m \u001b[0mnp\u001b[0m\u001b[0;34m.\u001b[0m\u001b[0mexp\u001b[0m\u001b[0;34m(\u001b[0m\u001b[0ma\u001b[0m\u001b[0;34m)\u001b[0m\u001b[0;34m\u001b[0m\u001b[0m\n\u001b[0m\u001b[1;32m      6\u001b[0m     \u001b[0ma\u001b[0m \u001b[0;34m+=\u001b[0m \u001b[0mh\u001b[0m\u001b[0;34m\u001b[0m\u001b[0m\n\u001b[1;32m      7\u001b[0m \u001b[0;32mprint\u001b[0m \u001b[0;34m(\u001b[0m\u001b[0mh\u001b[0m\u001b[0;34m)\u001b[0m\u001b[0;34m*\u001b[0m\u001b[0minteg_trap\u001b[0m \u001b[0;34m+\u001b[0m \u001b[0;34m(\u001b[0m\u001b[0mh\u001b[0m\u001b[0;34m/\u001b[0m\u001b[0;36m2.\u001b[0m\u001b[0;34m)\u001b[0m\u001b[0;34m*\u001b[0m\u001b[0;34m(\u001b[0m\u001b[0mnp\u001b[0m\u001b[0;34m.\u001b[0m\u001b[0mexp\u001b[0m\u001b[0;34m(\u001b[0m\u001b[0;36m0\u001b[0m\u001b[0;34m)\u001b[0m\u001b[0;34m+\u001b[0m\u001b[0mnp\u001b[0m\u001b[0;34m.\u001b[0m\u001b[0mexp\u001b[0m\u001b[0;34m(\u001b[0m\u001b[0;36m1\u001b[0m\u001b[0;34m)\u001b[0m\u001b[0;34m)\u001b[0m\u001b[0;34m\u001b[0m\u001b[0m\n",
        "\u001b[0;31mKeyboardInterrupt\u001b[0m: "
       ]
      }
     ],
     "prompt_number": 13
    },
    {
     "cell_type": "code",
     "collapsed": false,
     "input": [
      "a =0\n",
      "h = 1./4\n",
      "while a<1:\n",
      "    integ_trap = np.exp(a+h) + np.exp(a)\n",
      "    a += h\n",
      "    #print a\n",
      "print integ_trap*(h/2.)"
     ],
     "language": "python",
     "metadata": {},
     "outputs": [
      {
       "output_type": "stream",
       "stream": "stdout",
       "text": [
        "0.604410230634\n"
       ]
      }
     ],
     "prompt_number": 21
    },
    {
     "cell_type": "markdown",
     "metadata": {},
     "source": [
      "various methods of integration\n",
      "==="
     ]
    },
    {
     "cell_type": "code",
     "collapsed": false,
     "input": [
      "h = 1e-01\n",
      "h_min = 1e-05\n",
      "exact = np.exp(1) - np.exp(0)\n",
      "while h > h_min :\n",
      "    a =0\n",
      "    integ_trap = 0\n",
      "    while a<1:\n",
      "        integ_trap += np.exp(a+h) + np.exp(a)\n",
      "        a += h\n",
      "        #print a\n",
      "    print 'integ value', integ_trap*(h/2.), 'error', integ_trap*(h/2.) - exact\n",
      "    h = h/2."
     ],
     "language": "python",
     "metadata": {},
     "outputs": [
      {
       "output_type": "stream",
       "stream": "stdout",
       "text": [
        "integ value 2.00583588401 error 0.287554055551\n",
        "integ value 1.71863978893 error 0.000357960466176\n",
        "integ value 1.71837132137 error 8.94929130191e-05\n",
        "integ value 1.75249642332 error 0.0342145948604\n",
        "integ value 1.73532994095 error 0.0170481124885\n",
        "integ value 1.7182832268 error 1.3983411058e-06\n",
        "integ value 1.71828217804 error 3.49585326465e-07\n",
        "integ value"
       ]
      },
      {
       "output_type": "stream",
       "stream": "stdout",
       "text": [
        " 1.72040640341 error 0.00212457495272\n",
        "integ value 1.71934388658 error 0.00106205811725\n",
        "integ value"
       ]
      },
      {
       "output_type": "stream",
       "stream": "stdout",
       "text": [
        " 1.71828183392 error 5.46231371246e-09\n",
        "integ value"
       ]
      },
      {
       "output_type": "stream",
       "stream": "stdout",
       "text": [
        " 1.71828182982 error 1.36569444642e-09\n",
        "integ value"
       ]
      },
      {
       "output_type": "stream",
       "stream": "stdout",
       "text": [
        " 1.71841456065 error 0.000132732186654\n",
        "integ value"
       ]
      },
      {
       "output_type": "stream",
       "stream": "stdout",
       "text": [
        " 1.71834819366 error 6.63651974147e-05\n",
        "integ value"
       ]
      },
      {
       "output_type": "stream",
       "stream": "stdout",
       "text": [
        " 1.71828182848 error 2.196420823e-11\n"
       ]
      }
     ],
     "prompt_number": 27
    },
    {
     "cell_type": "code",
     "collapsed": false,
     "input": [
      "h = 1e-01\n",
      "h_min = 1e-05\n",
      "exact = np.exp(1) - np.exp(0)\n",
      "while h > h_min :\n",
      "    a =0\n",
      "    integ_simp = 0\n",
      "    while a<1:\n",
      "        integ_simp += np.exp(a+2*h) + 4*np.exp(a+h) + np.exp(a)\n",
      "        a += 2*h\n",
      "        #print a\n",
      "    print 'h', h, 'integ value', integ_simp*(h/3.), 'error', integ_simp*(h/3.) - exact, '#', int((1-0)/h)\n",
      "    h = h/2."
     ],
     "language": "python",
     "metadata": {},
     "outputs": [
      {
       "output_type": "stream",
       "stream": "stdout",
       "text": [
        "h 0.1 integ value 1.71828278192 error 9.53465778331e-07 # 1\n",
        "h 0.05 integ value 2.00416609351 error 0.285884265056 # 2\n",
        "h 0.025 integ value 1.71828183219 error 3.72863317999e-09 # 1\n",
        "h 0.0125 integ value 1.71828182869 error 2.33052910303e-10 # 2\n",
        "h 0.00625 integ value 1.75247360473 error 0.0341917762679 # 1\n",
        "h 0.003125 integ value 1.73532429211 error 0.017042463651 # 2\n",
        "h 0.0015625 integ value 1.71828182846 error 5.97299987248e-14 # 1\n",
        "h 0.00078125 integ value 1.71828182846 error 1.1768364061e-14 # 2\n",
        "h"
       ]
      },
      {
       "output_type": "stream",
       "stream": "stdout",
       "text": [
        " 0.000390625 integ value 1.72040631591 error 0.00212448744833 # 1\n",
        "h"
       ]
      },
      {
       "output_type": "stream",
       "stream": "stdout",
       "text": [
        " 0.0001953125 integ value 1.71934386471 error 0.00106203625466 # 2\n",
        "h"
       ]
      },
      {
       "output_type": "stream",
       "stream": "stdout",
       "text": [
        " 9.765625e-05 integ value 1.71828182846 error 4.1522341121e-14 # 1\n",
        "h"
       ]
      },
      {
       "output_type": "stream",
       "stream": "stdout",
       "text": [
        " 4.8828125e-05 integ value 1.71828182846 error 1.23456800338e-13 # 2\n",
        "h"
       ]
      },
      {
       "output_type": "stream",
       "stream": "stdout",
       "text": [
        " 2.44140625e-05 integ value 1.7184145603 error 0.000132731845244 # 1\n",
        "h"
       ]
      },
      {
       "output_type": "stream",
       "stream": "stdout",
       "text": [
        " 1.220703125e-05 integ value 1.71834819357 error 6.636511208e-05 # 2\n"
       ]
      }
     ],
     "prompt_number": 45
    },
    {
     "cell_type": "code",
     "collapsed": false,
     "input": [
      "h = 1e-01\n",
      "h_min = 1e-05\n",
      "exact = np.exp(1) - np.exp(0)\n",
      "while h > h_min :\n",
      "    a =0\n",
      "    integ_38ths = 0\n",
      "    while a<1:\n",
      "        integ_38ths += 3*np.exp(a+3*h) + 9*np.exp(a+2*h) + 9*np.exp(a+h) + 3*np.exp(a)\n",
      "        a += 3*h\n",
      "        #print a\n",
      "    print 'h', h, 'integ value', integ_38ths*(h/8.), 'error', integ_38ths*(h/8.) - exact, '#', int((1-0)/h)\n",
      "    h = h/2."
     ],
     "language": "python",
     "metadata": {},
     "outputs": [
      {
       "output_type": "stream",
       "stream": "stdout",
       "text": [
        "h 0.1 integ value 2.32011981599 error 0.601837987534 # 10\n",
        "h 0.05 integ value 1.85765126311 error 0.139369434647 # 20\n",
        "h 0.025 integ value 1.85765112713 error 0.139369298673 # 40\n",
        "h 0.0125 integ value 1.75247360525 error 0.0341917767879 # 80\n",
        "h 0.00625 integ value 1.75247360475 error 0.0341917762865 # 160\n",
        "h 0.003125 integ value 1.72678974587 error 0.00850791741319 # 320\n",
        "h 0.0015625 integ value 1.72678974587 error 0.00850791741126 # 640\n",
        "h 0.00078125 integ value 1.72040631591 error 0.00212448744834 # 1280\n",
        "h"
       ]
      },
      {
       "output_type": "stream",
       "stream": "stdout",
       "text": [
        " 0.000390625 integ value 1.72040631591 error 0.00212448744834 # 2560\n",
        "h"
       ]
      },
      {
       "output_type": "stream",
       "stream": "stdout",
       "text": [
        " 0.0001953125 integ value 1.71881279473 error 0.000530966270129 # 5120\n",
        "h"
       ]
      },
      {
       "output_type": "stream",
       "stream": "stdout",
       "text": [
        " 9.765625e-05 integ value 1.71881279473 error 0.000530966270081 # 10240\n",
        "h"
       ]
      },
      {
       "output_type": "stream",
       "stream": "stdout",
       "text": [
        " 4.8828125e-05 integ value 1.7184145603 error 0.000132731845319 # 20480\n",
        "h"
       ]
      },
      {
       "output_type": "stream",
       "stream": "stdout",
       "text": [
        " 2.44140625e-05 integ value 1.7184145603 error 0.000132731845507 # 40960\n",
        "h"
       ]
      },
      {
       "output_type": "stream",
       "stream": "stdout",
       "text": [
        " 1.220703125e-05 integ value 1.71831501081 error 3.31823540918e-05 # 81920\n"
       ]
      }
     ],
     "prompt_number": 46
    },
    {
     "cell_type": "code",
     "collapsed": false,
     "input": [
      "def fn(x):\n",
      "    return np.exp(x)\n",
      "\n",
      "def integ_trap(a,b,h):\n",
      "    integ_trap_value = 0\n",
      "    while a < b:\n",
      "        integ_trap_value += fn(a+h) + fn(a)\n",
      "        a += h\n",
      "    return integ_trap_value*(h/2)\n",
      "\n",
      "def integ_simp(a,b,h):\n",
      "    integ_simp_value = 0\n",
      "    while a < b:\n",
      "        integ_simp_value += fn(a+2*h) + 4*fn(a+h) + fn(a)\n",
      "        a += 2*h\n",
      "    return integ_simp_value*(h/3.)\n",
      "\n",
      "def integ_38ths(a,b,h):\n",
      "    integ_38ths_value = 0\n",
      "    while a < b:\n",
      "        integ_38ths_value += 3*fn(a+3*h) + 9*fn(a+2*h) + 9*fn(a+h) + 3*fn(a)\n",
      "        a += 3*h\n",
      "    return integ_38ths_value*(h/8.)\n",
      "\n",
      "h = 1e-01\n",
      "exact = np.exp(1) - np.exp(0)\n",
      "h_min = 1e-04\n",
      "while h > h_min:\n",
      "    print h\n",
      "    print integ_trap(0,1,h) - exact\n",
      "    print integ_simp(0,1,h) - exact\n",
      "    print integ_38ths(0,1,h) - exact, '\\n'\n",
      "    h = h/2."
     ],
     "language": "python",
     "metadata": {},
     "outputs": [
      {
       "output_type": "stream",
       "stream": "stdout",
       "text": [
        "0.1\n",
        "0.287554055551\n",
        "9.53465778331e-07\n",
        "0.601837987534 \n",
        "\n",
        "0.05\n",
        "0.000357960466176\n",
        "0.285884265056\n",
        "0.139369434647 \n",
        "\n",
        "0.025\n",
        "8.94929130191e-05\n",
        "3.72863317999e-09\n",
        "0.139369298673 \n",
        "\n",
        "0.0125\n",
        "0.0342145948604\n",
        "2.33052910303e-10\n",
        "0.0341917767879 \n",
        "\n",
        "0.00625\n",
        "0.0170481124885\n",
        "0.0341917762679\n",
        "0.0341917762865 \n",
        "\n",
        "0.003125\n",
        "1.3983411058e-06\n",
        "0.017042463651\n",
        "0.00850791741319 \n",
        "\n",
        "0.0015625\n",
        "3.49585326465e-07\n",
        "5.97299987248e-14"
       ]
      },
      {
       "output_type": "stream",
       "stream": "stdout",
       "text": [
        "\n",
        "0.00850791741126 \n",
        "\n",
        "0.00078125\n",
        "0.00212457495272\n",
        "1.1768364061e-14\n",
        "0.00212448744834"
       ]
      },
      {
       "output_type": "stream",
       "stream": "stdout",
       "text": [
        " \n",
        "\n",
        "0.000390625\n",
        "0.00106205811725\n",
        "0.00212448744833"
       ]
      },
      {
       "output_type": "stream",
       "stream": "stdout",
       "text": [
        "\n",
        "0.00212448744834 \n",
        "\n",
        "0.0001953125\n",
        "5.46231371246e-09"
       ]
      },
      {
       "output_type": "stream",
       "stream": "stdout",
       "text": [
        "\n",
        "0.00106203625466"
       ]
      },
      {
       "output_type": "stream",
       "stream": "stdout",
       "text": [
        "\n",
        "0.000530966270129"
       ]
      },
      {
       "output_type": "stream",
       "stream": "stdout",
       "text": [
        " \n",
        "\n"
       ]
      }
     ],
     "prompt_number": 61
    },
    {
     "cell_type": "code",
     "collapsed": false,
     "input": [],
     "language": "python",
     "metadata": {},
     "outputs": []
    }
   ],
   "metadata": {}
  }
 ]
}