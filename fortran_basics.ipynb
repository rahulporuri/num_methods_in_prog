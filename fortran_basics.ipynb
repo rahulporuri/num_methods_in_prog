{
 "metadata": {
  "name": "",
  "signature": "sha256:c6a301f2a0ed79cb88445c505d3baf6e52432a60100b8af5fed8f9e20f833b9b"
 },
 "nbformat": 3,
 "nbformat_minor": 0,
 "worksheets": [
  {
   "cells": [
    {
     "cell_type": "code",
     "collapsed": false,
     "input": [
      "%load_ext fortranmagic"
     ],
     "language": "python",
     "metadata": {},
     "outputs": [
      {
       "javascript": [
        "$.getScript(\"https://raw.github.com/marijnh/CodeMirror/master/mode/fortran/fortran.js\", function () {\n",
        "IPython.config.cell_magic_highlight['magic_fortran'] = {'reg':[/^%%fortran/]};});\n"
       ],
       "metadata": {},
       "output_type": "display_data"
      }
     ],
     "prompt_number": 5
    },
    {
     "cell_type": "code",
     "collapsed": false,
     "input": [
      "%%fortran\n",
      "subroutine f(x,y,z)\n",
      "    real, intent(in) :: x,y\n",
      "    real, intent(out) :: z\n",
      "    z = sin(x+y)\n",
      "end subroutine f"
     ],
     "language": "python",
     "metadata": {},
     "outputs": [
      {
       "output_type": "stream",
       "stream": "stderr",
       "text": [
        "ERROR: Cell magic `%%fortran` not found.\n"
       ]
      }
     ],
     "prompt_number": 4
    },
    {
     "cell_type": "code",
     "collapsed": false,
     "input": [
      "f(1,1)"
     ],
     "language": "python",
     "metadata": {},
     "outputs": [
      {
       "metadata": {},
       "output_type": "pyout",
       "prompt_number": 4,
       "text": [
        "0.9092974066734314"
       ]
      }
     ],
     "prompt_number": 4
    },
    {
     "cell_type": "code",
     "collapsed": false,
     "input": [
      "print f.__doc__"
     ],
     "language": "python",
     "metadata": {},
     "outputs": [
      {
       "output_type": "stream",
       "stream": "stdout",
       "text": [
        "z = f(x,y)\n",
        "\n",
        "Wrapper for ``f``.\n",
        "\n",
        "Parameters\n",
        "----------\n",
        "x : input float\n",
        "y : input float\n",
        "\n",
        "Returns\n",
        "-------\n",
        "z : float\n",
        "\n"
       ]
      }
     ],
     "prompt_number": 6
    },
    {
     "cell_type": "code",
     "collapsed": false,
     "input": [
      "%fortran_config"
     ],
     "language": "python",
     "metadata": {},
     "outputs": [
      {
       "output_type": "stream",
       "stream": "stdout",
       "text": [
        "No custom config found for %%fortran\n",
        "Current defaults arguments for %fortran:\n",
        "\t\n"
       ]
      }
     ],
     "prompt_number": 9
    },
    {
     "cell_type": "code",
     "collapsed": false,
     "input": [
      "%%fortran\n",
      "subroutine g(x,z)\n",
      "    double precision, intent(in) :: x\n",
      "    double precision, intent(out) :: z\n",
      "    do while ( z != z+x)\n",
      "        x = x./2\n",
      "    end do\n",
      "end subroutine g"
     ],
     "language": "python",
     "metadata": {},
     "outputs": [
      {
       "output_type": "stream",
       "stream": "stdout",
       "text": [
        "\tBuilding module \"_fortran_magic_fa3e42b67d00f8a03736403de4731648\"...\n",
        "\t\tConstructing wrapper function \"g\"...\n",
        "\t\t  z = g(x)\n"
       ]
      },
      {
       "output_type": "stream",
       "stream": "stdout",
       "text": [
        "\tWrote C/API module \"_fortran_magic_fa3e42b67d00f8a03736403de4731648\" to file \"/tmp/tmpKRkf7X/src.linux-i686-2.7/_fortran_magic_fa3e42b67d00f8a03736403de4731648module.c\"\n",
        "running build\n",
        "running config_cc\n",
        "unifing config_cc, config, build_clib, build_ext, build commands --compiler options\n",
        "running config_fc\n",
        "unifing config_fc, config, build_clib, build_ext, build commands --fcompiler options\n",
        "running build_src\n",
        "build_src\n",
        "building extension \"_fortran_magic_fa3e42b67d00f8a03736403de4731648\" sources\n",
        "f2py options: []\n",
        "f2py:> /tmp/tmpKRkf7X/src.linux-i686-2.7/_fortran_magic_fa3e42b67d00f8a03736403de4731648module.c\n",
        "creating /tmp/tmpKRkf7X/src.linux-i686-2.7\n",
        "Reading fortran codes...\n",
        "\tReading file '/home/python/.cache/ipython/fortran/_fortran_magic_fa3e42b67d00f8a03736403de4731648.f90' (format:free)\n",
        "Post-processing...\n",
        "\tBlock: _fortran_magic_fa3e42b67d00f8a03736403de4731648\n",
        "\t\t\tBlock: g\n",
        "Post-processing (stage 2)...\n",
        "Building modules...\n",
        "  adding '/tmp/tmpKRkf7X/src.linux-i686-2.7/fortranobject.c' to sources.\n",
        "  adding '/tmp/tmpKRkf7X/src.linux-i686-2.7' to include_dirs.\n",
        "copying /usr/local/lib/python2.7/dist-packages/numpy/f2py/src/fortranobject.c -> /tmp/tmpKRkf7X/src.linux-i686-2.7\n",
        "copying /usr/local/lib/python2.7/dist-packages/numpy/f2py/src/fortranobject.h -> /tmp/tmpKRkf7X/src.linux-i686-2.7\n",
        "build_src: building npy-pkg config files\n",
        "running build_ext\n",
        "customize UnixCCompiler\n",
        "customize UnixCCompiler using build_ext\n",
        "customize Gnu95FCompiler\n",
        "customize Gnu95FCompiler\n",
        "customize Gnu95FCompiler using build_ext\n",
        "building '_fortran_magic_fa3e42b67d00f8a03736403de4731648' extension\n",
        "compiling C sources\n",
        "C compiler: i686-linux-gnu-gcc -pthread -fno-strict-aliasing -DNDEBUG -g -fwrapv -O2 -Wall -Wstrict-prototypes -fPIC\n",
        "\n",
        "creating /tmp/tmpKRkf7X/tmp\n",
        "creating /tmp/tmpKRkf7X/tmp/tmpKRkf7X\n",
        "creating /tmp/tmpKRkf7X/tmp/tmpKRkf7X/src.linux-i686-2.7\n",
        "compile options: '-I/tmp/tmpKRkf7X/src.linux-i686-2.7 -I/usr/local/lib/python2.7/dist-packages/numpy/core/include -I/usr/include/python2.7 -c'\n",
        "i686-linux-gnu-gcc: /tmp/tmpKRkf7X/src.linux-i686-2.7/_fortran_magic_fa3e42b67d00f8a03736403de4731648module.c\n",
        "i686-linux-gnu-gcc: /tmp/tmpKRkf7X/src.linux-i686-2.7/fortranobject.c\n",
        "compiling Fortran sources\n",
        "Fortran f77 compiler: /usr/bin/gfortran -Wall -g -ffixed-form -fno-second-underscore -fPIC -O3 -funroll-loops\n",
        "Fortran f90 compiler: /usr/bin/gfortran -Wall -g -fno-second-underscore -fPIC -O3 -funroll-loops\n",
        "Fortran fix compiler: /usr/bin/gfortran -Wall -g -ffixed-form -fno-second-underscore -Wall -g -fno-second-underscore -fPIC -O3 -funroll-loops\n",
        "creating /tmp/tmpKRkf7X/home\n",
        "creating /tmp/tmpKRkf7X/home/python\n",
        "creating /tmp/tmpKRkf7X/home/python/.cache\n",
        "creating /tmp/tmpKRkf7X/home/python/.cache/ipython\n",
        "creating /tmp/tmpKRkf7X/home/python/.cache/ipython/fortran\n",
        "compile options: '-I/tmp/tmpKRkf7X/src.linux-i686-2.7 -I/usr/local/lib/python2.7/dist-packages/numpy/core/include -I/usr/include/python2.7 -c'\n",
        "gfortran:f90: /home/python/.cache/ipython/fortran/_fortran_magic_fa3e42b67d00f8a03736403de4731648.f90\n",
        "/home/python/.cache/ipython/fortran/_fortran_magic_fa3e42b67d00f8a03736403de4731648.f90:4.14:\n",
        "\n",
        "    do while ( z != z+x)\n",
        "              1\n",
        "Error: Missing ')' in statement at or before (1)\n",
        "/home/python/.cache/ipython/fortran/_fortran_magic_fa3e42b67d00f8a03736403de4731648.f90:5.15:\n",
        "\n",
        "        x = x./2\n",
        "               1\n",
        "Error: Invalid character in name at (1)\n",
        "/home/python/.cache/ipython/fortran/_fortran_magic_fa3e42b67d00f8a03736403de4731648.f90:6.7:\n",
        "\n",
        "    end do\n",
        "       1\n",
        "Error: Expecting END SUBROUTINE statement at (1)\n"
       ]
      },
      {
       "output_type": "stream",
       "stream": "stderr",
       "text": [
        "UsageError: error: Command \"/usr/bin/gfortran -Wall -g -fno-second-underscore -fPIC -O3 -funroll-loops -I/tmp/tmpKRkf7X/src.linux-i686-2.7 -I/usr/local/lib/python2.7/dist-packages/numpy/core/include -I/usr/include/python2.7 -c -c /home/python/.cache/ipython/fortran/_fortran_magic_fa3e42b67d00f8a03736403de4731648.f90 -o /tmp/tmpKRkf7X/home/python/.cache/ipython/fortran/_fortran_magic_fa3e42b67d00f8a03736403de4731648.o\" failed with exit status 1"
       ]
      }
     ],
     "prompt_number": 9
    },
    {
     "cell_type": "code",
     "collapsed": false,
     "input": [],
     "language": "python",
     "metadata": {},
     "outputs": []
    }
   ],
   "metadata": {}
  }
 ]
}